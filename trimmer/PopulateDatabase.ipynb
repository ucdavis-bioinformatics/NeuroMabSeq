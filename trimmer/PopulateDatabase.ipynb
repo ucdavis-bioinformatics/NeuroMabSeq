{
 "cells": [
  {
   "cell_type": "code",
   "execution_count": null,
   "metadata": {},
   "outputs": [],
   "source": [
    "!./manage.py shell < wipe_db.py\n",
    "!./manage.py shell < wipe_status_data.py\n",
    "!rm mydatabase\n",
    "#python manage.py makemigrations\n",
    "!python manage.py migrate\n",
    "# directory, update True/False (False will run a reset)\n",
    "!./manage.py shell < run_update.py\n",
    "!./manage.py shell -c \"from sequence_db.methods import *; run_all_entry_group()\" # TODO this happens at the end now? Doesnt run well in management\n",
    "!./manage.py shell < run_status_update.py\n",
    "!./manage.py shell < run_metadata_update.py\n",
    "!./manage.py shell < generate_blat.py\n",
    "!./manage.py shell < upload_faq.py"
   ]
  }
 ],
 "metadata": {
  "language_info": {
   "name": "python"
  },
  "orig_nbformat": 4
 },
 "nbformat": 4,
 "nbformat_minor": 2
}
